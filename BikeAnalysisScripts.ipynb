{
 "cells": [
  {
   "cell_type": "markdown",
   "id": "0b753c96",
   "metadata": {},
   "source": [
    "## Load Common Python Libraries"
   ]
  },
  {
   "cell_type": "code",
   "execution_count": 48,
   "id": "97235a83",
   "metadata": {},
   "outputs": [],
   "source": [
    "\n",
    "import pandas as pd\n",
    "import numpy as np\n",
    "import matplotlib.pyplot as plt\n",
    "import seaborn as sns\n",
    "import warnings\n",
    "warnings.filterwarnings('ignore')\n",
    "%matplotlib inline"
   ]
  },
  {
   "cell_type": "code",
   "execution_count": 49,
   "id": "04b7429e",
   "metadata": {},
   "outputs": [],
   "source": [
    "# Importing the dataset\n",
    "\n",
    "df=pd.read_csv('C:\\\\Users\\\\Azubuike Orioha\\\\BikeSales.csv')"
   ]
  },
  {
   "cell_type": "code",
   "execution_count": 50,
   "id": "84b367a1",
   "metadata": {},
   "outputs": [],
   "source": [
    "# Make a copy of the dataset\n",
    "\n",
    "df2=df.copy()"
   ]
  },
  {
   "cell_type": "code",
   "execution_count": 53,
   "id": "9b79d912",
   "metadata": {},
   "outputs": [
    {
     "name": "stdout",
     "output_type": "stream",
     "text": [
      "<class 'pandas.core.frame.DataFrame'>\n",
      "RangeIndex: 113036 entries, 0 to 113035\n",
      "Data columns (total 18 columns):\n",
      " #   Column            Non-Null Count   Dtype \n",
      "---  ------            --------------   ----- \n",
      " 0   Date              113036 non-null  object\n",
      " 1   Day               113036 non-null  int64 \n",
      " 2   Month             113036 non-null  object\n",
      " 3   Year              113036 non-null  int64 \n",
      " 4   Customer_Age      113036 non-null  int64 \n",
      " 5   Age_Group         113036 non-null  object\n",
      " 6   Customer_Gender   113036 non-null  object\n",
      " 7   Country           113036 non-null  object\n",
      " 8   State             113036 non-null  object\n",
      " 9   Product_Category  113036 non-null  object\n",
      " 10  Sub_Category      113036 non-null  object\n",
      " 11  Product           113036 non-null  object\n",
      " 12  Order_Quantity    113036 non-null  int64 \n",
      " 13  Unit_Cost         113036 non-null  int64 \n",
      " 14  Unit_Price        113036 non-null  int64 \n",
      " 15  Profit            113036 non-null  int64 \n",
      " 16  Cost              113036 non-null  int64 \n",
      " 17  Revenue           113036 non-null  int64 \n",
      "dtypes: int64(9), object(9)\n",
      "memory usage: 15.5+ MB\n"
     ]
    }
   ],
   "source": [
    "# summary of the DataFrame\n",
    "\n",
    "df.info()"
   ]
  },
  {
   "cell_type": "code",
   "execution_count": 54,
   "id": "77904a51",
   "metadata": {},
   "outputs": [
    {
     "data": {
      "text/plain": [
       "Date                0\n",
       "Day                 0\n",
       "Month               0\n",
       "Year                0\n",
       "Customer_Age        0\n",
       "Age_Group           0\n",
       "Customer_Gender     0\n",
       "Country             0\n",
       "State               0\n",
       "Product_Category    0\n",
       "Sub_Category        0\n",
       "Product             0\n",
       "Order_Quantity      0\n",
       "Unit_Cost           0\n",
       "Unit_Price          0\n",
       "Profit              0\n",
       "Cost                0\n",
       "Revenue             0\n",
       "dtype: int64"
      ]
     },
     "execution_count": 54,
     "metadata": {},
     "output_type": "execute_result"
    }
   ],
   "source": [
    "# Count missing (null) values in each column of the DataFrame\n",
    "\n",
    "df.isnull().sum()\n"
   ]
  },
  {
   "cell_type": "code",
   "execution_count": 55,
   "id": "6fcd0e48",
   "metadata": {},
   "outputs": [
    {
     "data": {
      "text/plain": [
       "(113036, 18)"
      ]
     },
     "execution_count": 55,
     "metadata": {},
     "output_type": "execute_result"
    }
   ],
   "source": [
    "# dimensions of the DataFrame\n",
    "\n",
    "df.shape"
   ]
  },
  {
   "cell_type": "code",
   "execution_count": 56,
   "id": "158fa43b",
   "metadata": {},
   "outputs": [
    {
     "data": {
      "text/plain": [
       "Date                object\n",
       "Day                  int64\n",
       "Month               object\n",
       "Year                 int64\n",
       "Customer_Age         int64\n",
       "Age_Group           object\n",
       "Customer_Gender     object\n",
       "Country             object\n",
       "State               object\n",
       "Product_Category    object\n",
       "Sub_Category        object\n",
       "Product             object\n",
       "Order_Quantity       int64\n",
       "Unit_Cost            int64\n",
       "Unit_Price           int64\n",
       "Profit               int64\n",
       "Cost                 int64\n",
       "Revenue              int64\n",
       "dtype: object"
      ]
     },
     "execution_count": 56,
     "metadata": {},
     "output_type": "execute_result"
    }
   ],
   "source": [
    "#  data types of each column in the DataFrame\n",
    "\n",
    "df.dtypes"
   ]
  },
  {
   "cell_type": "code",
   "execution_count": 57,
   "id": "b6bc27d8",
   "metadata": {},
   "outputs": [
    {
     "data": {
      "text/plain": [
       "1000"
      ]
     },
     "execution_count": 57,
     "metadata": {},
     "output_type": "execute_result"
    }
   ],
   "source": [
    "# count the number of duplicate rows in DataFrame\n",
    "\n",
    "df.duplicated().sum()"
   ]
  },
  {
   "cell_type": "code",
   "execution_count": 58,
   "id": "63cf96d5",
   "metadata": {},
   "outputs": [
    {
     "data": {
      "text/plain": [
       "array(['British Columbia', 'New South Wales', 'Victoria', 'Oregon',\n",
       "       'California', 'Saarland', 'Seine Saint Denis', 'Moselle',\n",
       "       'Queensland', 'England', 'Nord', 'Washington', 'Hessen',\n",
       "       'Nordrhein-Westfalen', 'Hamburg', 'Loir et Cher', 'Kentucky',\n",
       "       'Seine (Paris)', 'South Australia', 'Loiret', 'Alberta', 'Bayern',\n",
       "       'Hauts de Seine', 'Yveline', 'Essonne', \"Val d'Oise\", 'Tasmania',\n",
       "       'Seine et Marne', 'Val de Marne', 'Pas de Calais',\n",
       "       'Charente-Maritime', 'Garonne (Haute)', 'Brandenburg', 'Texas',\n",
       "       'New York', 'Florida', 'Somme', 'Illinois', 'South Carolina',\n",
       "       'North Carolina', 'Georgia', 'Virginia', 'Ohio', 'Ontario',\n",
       "       'Wyoming', 'Missouri', 'Montana', 'Utah', 'Minnesota',\n",
       "       'Mississippi', 'Massachusetts', 'Arizona', 'Alabama'], dtype=object)"
      ]
     },
     "execution_count": 58,
     "metadata": {},
     "output_type": "execute_result"
    }
   ],
   "source": [
    "# returns an array of all unique states column in the DataFrame \n",
    "\n",
    "df['State'].unique()"
   ]
  },
  {
   "cell_type": "code",
   "execution_count": 59,
   "id": "4b48b1ee",
   "metadata": {},
   "outputs": [
    {
     "data": {
      "text/plain": [
       "53"
      ]
     },
     "execution_count": 59,
     "metadata": {},
     "output_type": "execute_result"
    }
   ],
   "source": [
    "# counts unique values in the 'State' column\n",
    "\n",
    "df['State'].nunique()"
   ]
  },
  {
   "cell_type": "markdown",
   "id": "69ea7a43",
   "metadata": {},
   "source": [
    "## Cleaning the Data"
   ]
  },
  {
   "cell_type": "code",
   "execution_count": 60,
   "id": "4950e62b",
   "metadata": {},
   "outputs": [],
   "source": [
    "# remove duplicate rows from the DataFrame\n",
    "\n",
    "df.drop_duplicates(inplace=True)"
   ]
  },
  {
   "cell_type": "code",
   "execution_count": 61,
   "id": "81270a7e",
   "metadata": {},
   "outputs": [
    {
     "data": {
      "text/plain": [
       "0"
      ]
     },
     "execution_count": 61,
     "metadata": {},
     "output_type": "execute_result"
    }
   ],
   "source": [
    "# count number of duplicate rows in the DataFrame\n",
    "\n",
    "df.duplicated().sum()"
   ]
  },
  {
   "cell_type": "code",
   "execution_count": 62,
   "id": "a4d6d05b",
   "metadata": {},
   "outputs": [],
   "source": [
    " # convert all column names in the DataFrame to lowercase.\n",
    "    \n",
    "df.columns = df.columns.str.lower()"
   ]
  },
  {
   "cell_type": "code",
   "execution_count": 63,
   "id": "e69c6b83",
   "metadata": {},
   "outputs": [
    {
     "data": {
      "text/plain": [
       "Index(['date', 'day', 'month', 'year', 'customer_age', 'age_group',\n",
       "       'customer_gender', 'country', 'state', 'product_category',\n",
       "       'sub_category', 'product', 'order_quantity', 'unit_cost', 'unit_price',\n",
       "       'profit', 'cost', 'revenue'],\n",
       "      dtype='object')"
      ]
     },
     "execution_count": 63,
     "metadata": {},
     "output_type": "execute_result"
    }
   ],
   "source": [
    " # check the columns names are now in lowercase.\n",
    "    \n",
    "df.columns "
   ]
  },
  {
   "cell_type": "code",
   "execution_count": 64,
   "id": "389a43fc",
   "metadata": {},
   "outputs": [
    {
     "data": {
      "text/plain": [
       "array(['M', 'F'], dtype=object)"
      ]
     },
     "execution_count": 64,
     "metadata": {},
     "output_type": "execute_result"
    }
   ],
   "source": [
    "# return an array of the unique values in the customer_gender column \n",
    "\n",
    "df['customer_gender'].unique()"
   ]
  },
  {
   "cell_type": "code",
   "execution_count": 65,
   "id": "0d54d9e4",
   "metadata": {},
   "outputs": [],
   "source": [
    "# replaces values in the customer_gender with the new value\n",
    "\n",
    "df['customer_gender'].replace('M', 'Male', inplace = True)\n",
    "df['customer_gender'].replace('F', 'Female', inplace = True)"
   ]
  },
  {
   "cell_type": "code",
   "execution_count": 66,
   "id": "0fa42e2a",
   "metadata": {},
   "outputs": [
    {
     "data": {
      "text/plain": [
       "array(['Male', 'Female'], dtype=object)"
      ]
     },
     "execution_count": 66,
     "metadata": {},
     "output_type": "execute_result"
    }
   ],
   "source": [
    "# check the new values in the customer_gender column \n",
    "\n",
    "df['customer_gender'].unique()"
   ]
  },
  {
   "cell_type": "code",
   "execution_count": 67,
   "id": "70b40ca3",
   "metadata": {},
   "outputs": [],
   "source": [
    "# delete/ drop specificed columns\n",
    "\n",
    "del_columns = ['day', 'profit','cost', 'revenue']\n",
    "df.drop(del_columns, axis=1, inplace =True)"
   ]
  },
  {
   "cell_type": "code",
   "execution_count": 68,
   "id": "10722dbc",
   "metadata": {},
   "outputs": [],
   "source": [
    "# adding three new columns and generating new calcualtions for the Total_cost, Revenue and profits \n",
    "\n",
    "df['total_cost'] = df['order_quantity'] * df['unit_cost']\n",
    "df['revenue'] = df['order_quantity'] * df['unit_price']\n",
    "df['profit'] = df['revenue'] * df['total_cost']"
   ]
  },
  {
   "cell_type": "code",
   "execution_count": 69,
   "id": "b554dd40",
   "metadata": {},
   "outputs": [],
   "source": [
    "# change date type from object to datetime format \n",
    "\n",
    "df['date'] = pd.to_datetime(df['date'])"
   ]
  },
  {
   "cell_type": "code",
   "execution_count": 70,
   "id": "e9f2acaf",
   "metadata": {},
   "outputs": [],
   "source": [
    " # remove any leading and trailing whitespace from the column names\n",
    "    \n",
    "df.columns = df.columns.str.strip()"
   ]
  },
  {
   "cell_type": "code",
   "execution_count": null,
   "id": "4ed87aeb",
   "metadata": {},
   "outputs": [],
   "source": []
  },
  {
   "cell_type": "markdown",
   "id": "c8b1eafe",
   "metadata": {},
   "source": [
    "## Analysisng the Data"
   ]
  },
  {
   "cell_type": "code",
   "execution_count": 71,
   "id": "296a06d4",
   "metadata": {},
   "outputs": [
    {
     "data": {
      "text/plain": [
       "date                1884\n",
       "month                 12\n",
       "year                   6\n",
       "customer_age          70\n",
       "age_group              4\n",
       "customer_gender        2\n",
       "country                6\n",
       "state                 53\n",
       "product_category       3\n",
       "sub_category          17\n",
       "product              130\n",
       "order_quantity        32\n",
       "unit_cost             34\n",
       "unit_price            36\n",
       "total_cost           360\n",
       "revenue              436\n",
       "profit               674\n",
       "dtype: int64"
      ]
     },
     "execution_count": 71,
     "metadata": {},
     "output_type": "execute_result"
    }
   ],
   "source": [
    "# return the count of unique values in each column\n",
    "    \n",
    "df.nunique()"
   ]
  },
  {
   "cell_type": "code",
   "execution_count": 75,
   "id": "4a337838",
   "metadata": {},
   "outputs": [
    {
     "data": {
      "text/plain": [
       "array(['Canada', 'Australia', 'United States', 'Germany', 'France',\n",
       "       'United Kingdom'], dtype=object)"
      ]
     },
     "execution_count": 75,
     "metadata": {},
     "output_type": "execute_result"
    }
   ],
   "source": [
    "#  returns an array of all unique country column in the DataFrame \n",
    "\n",
    "df['country'].unique()"
   ]
  },
  {
   "cell_type": "code",
   "execution_count": 76,
   "id": "64711593",
   "metadata": {},
   "outputs": [
    {
     "data": {
      "text/plain": [
       "array(['Accessories', 'Clothing', 'Bikes'], dtype=object)"
      ]
     },
     "execution_count": 76,
     "metadata": {},
     "output_type": "execute_result"
    }
   ],
   "source": [
    "# return the unique values from the column Product_Category in the DataFrame\n",
    "\n",
    "df['product_category'].unique()"
   ]
  },
  {
   "cell_type": "code",
   "execution_count": 77,
   "id": "541549db",
   "metadata": {},
   "outputs": [
    {
     "data": {
      "text/plain": [
       "Accessories    69312\n",
       "Bikes          25794\n",
       "Clothing       16930\n",
       "Name: product_category, dtype: int64"
      ]
     },
     "execution_count": 77,
     "metadata": {},
     "output_type": "execute_result"
    }
   ],
   "source": [
    "# count the occurrences of each unique value in the Product_Category column\n",
    "\n",
    "category_counts = df['product_category'].value_counts()\n",
    "category_counts"
   ]
  },
  {
   "cell_type": "code",
   "execution_count": 36,
   "id": "aaf3908b",
   "metadata": {},
   "outputs": [
    {
     "data": {
      "text/plain": [
       "array(['Bike Racks', 'Bike Stands', 'Bottles and Cages', 'Caps',\n",
       "       'Cleaners', 'Fenders', 'Gloves', 'Helmets', 'Hydration Packs',\n",
       "       'Jerseys', 'Mountain Bikes', 'Road Bikes', 'Shorts', 'Socks',\n",
       "       'Tires and Tubes', 'Touring Bikes', 'Vests'], dtype=object)"
      ]
     },
     "execution_count": 36,
     "metadata": {},
     "output_type": "execute_result"
    }
   ],
   "source": [
    "# return the unique values from the column Product_Category in the DataFrame\n",
    "\n",
    "df['sub_category'].unique()"
   ]
  },
  {
   "cell_type": "code",
   "execution_count": 78,
   "id": "77006731",
   "metadata": {},
   "outputs": [
    {
     "name": "stdout",
     "output_type": "stream",
     "text": [
      "Tires and Tubes      33298\n",
      "Bottles and Cages    15649\n",
      "Road Bikes           13313\n",
      "Helmets              12150\n",
      "Mountain Bikes        8803\n",
      "Jerseys               6006\n",
      "Caps                  4358\n",
      "Fenders               4032\n",
      "Touring Bikes         3678\n",
      "Gloves                2686\n",
      "Cleaners              1802\n",
      "Shorts                1794\n",
      "Hydration Packs       1334\n",
      "Socks                 1122\n",
      "Vests                  964\n",
      "Bike Racks             592\n",
      "Bike Stands            455\n",
      "Name: sub_category, dtype: int64\n"
     ]
    }
   ],
   "source": [
    "#  count the occurrences of each unique value in the Sub_Category column\n",
    "\n",
    "category_counts = df['sub_category'].value_counts()\n",
    "print(category_counts)"
   ]
  },
  {
   "cell_type": "code",
   "execution_count": 79,
   "id": "f6dd177d",
   "metadata": {},
   "outputs": [
    {
     "data": {
      "text/plain": [
       "array(['Hitch Rack - 4-Bike', 'All-Purpose Bike Stand',\n",
       "       'Mountain Bottle Cage', 'Water Bottle - 30 oz.',\n",
       "       'Road Bottle Cage', 'AWC Logo Cap', 'Bike Wash - Dissolver',\n",
       "       'Fender Set - Mountain', 'Half-Finger Gloves, L',\n",
       "       'Half-Finger Gloves, M', 'Half-Finger Gloves, S',\n",
       "       'Sport-100 Helmet, Black', 'Sport-100 Helmet, Red',\n",
       "       'Sport-100 Helmet, Blue', 'Hydration Pack - 70 oz.',\n",
       "       'Short-Sleeve Classic Jersey, XL',\n",
       "       'Short-Sleeve Classic Jersey, L', 'Short-Sleeve Classic Jersey, M',\n",
       "       'Short-Sleeve Classic Jersey, S', 'Long-Sleeve Logo Jersey, M',\n",
       "       'Long-Sleeve Logo Jersey, XL', 'Long-Sleeve Logo Jersey, L',\n",
       "       'Long-Sleeve Logo Jersey, S', 'Mountain-100 Silver, 38',\n",
       "       'Mountain-100 Silver, 44', 'Mountain-100 Black, 48',\n",
       "       'Mountain-100 Silver, 48', 'Mountain-100 Black, 38',\n",
       "       'Mountain-200 Silver, 38', 'Mountain-100 Black, 44',\n",
       "       'Mountain-100 Silver, 42', 'Mountain-200 Black, 46',\n",
       "       'Mountain-200 Silver, 42', 'Mountain-200 Silver, 46',\n",
       "       'Mountain-200 Black, 38', 'Mountain-100 Black, 42',\n",
       "       'Mountain-200 Black, 42', 'Mountain-400-W Silver, 46',\n",
       "       'Mountain-500 Silver, 40', 'Mountain-500 Silver, 44',\n",
       "       'Mountain-500 Black, 48', 'Mountain-500 Black, 40',\n",
       "       'Mountain-400-W Silver, 42', 'Mountain-500 Silver, 52',\n",
       "       'Mountain-500 Black, 52', 'Mountain-500 Silver, 42',\n",
       "       'Mountain-500 Black, 44', 'Mountain-500 Silver, 48',\n",
       "       'Mountain-400-W Silver, 38', 'Mountain-400-W Silver, 40',\n",
       "       'Mountain-500 Black, 42', 'Road-150 Red, 48', 'Road-150 Red, 62',\n",
       "       'Road-750 Black, 48', 'Road-750 Black, 58', 'Road-750 Black, 52',\n",
       "       'Road-150 Red, 52', 'Road-150 Red, 44', 'Road-150 Red, 56',\n",
       "       'Road-750 Black, 44', 'Road-350-W Yellow, 40',\n",
       "       'Road-350-W Yellow, 42', 'Road-250 Black, 44',\n",
       "       'Road-250 Black, 48', 'Road-350-W Yellow, 48',\n",
       "       'Road-550-W Yellow, 44', 'Road-550-W Yellow, 38',\n",
       "       'Road-250 Black, 52', 'Road-550-W Yellow, 48', 'Road-250 Red, 58',\n",
       "       'Road-250 Black, 58', 'Road-250 Red, 52', 'Road-250 Red, 48',\n",
       "       'Road-250 Red, 44', 'Road-550-W Yellow, 42',\n",
       "       'Road-550-W Yellow, 40', 'Road-650 Red, 48', 'Road-650 Red, 60',\n",
       "       'Road-650 Black, 48', 'Road-350-W Yellow, 44', 'Road-650 Red, 52',\n",
       "       'Road-650 Black, 44', 'Road-650 Red, 62', 'Road-650 Red, 58',\n",
       "       'Road-650 Black, 60', 'Road-650 Black, 58', 'Road-650 Black, 52',\n",
       "       'Road-650 Black, 62', 'Road-650 Red, 44',\n",
       "       \"Women's Mountain Shorts, M\", \"Women's Mountain Shorts, S\",\n",
       "       \"Women's Mountain Shorts, L\", 'Racing Socks, L', 'Racing Socks, M',\n",
       "       'Mountain Tire Tube', 'Touring Tire Tube', 'Patch Kit/8 Patches',\n",
       "       'HL Mountain Tire', 'LL Mountain Tire', 'Road Tire Tube',\n",
       "       'LL Road Tire', 'Touring Tire', 'ML Mountain Tire', 'HL Road Tire',\n",
       "       'ML Road Tire', 'Touring-1000 Yellow, 50', 'Touring-1000 Blue, 46',\n",
       "       'Touring-1000 Yellow, 60', 'Touring-1000 Blue, 50',\n",
       "       'Touring-3000 Yellow, 50', 'Touring-3000 Blue, 54',\n",
       "       'Touring-3000 Blue, 58', 'Touring-3000 Yellow, 44',\n",
       "       'Touring-3000 Yellow, 54', 'Touring-3000 Blue, 62',\n",
       "       'Touring-3000 Blue, 44', 'Touring-1000 Blue, 54',\n",
       "       'Touring-1000 Yellow, 46', 'Touring-1000 Blue, 60',\n",
       "       'Touring-3000 Yellow, 62', 'Touring-1000 Yellow, 54',\n",
       "       'Touring-2000 Blue, 54', 'Touring-3000 Blue, 50',\n",
       "       'Touring-3000 Yellow, 58', 'Touring-2000 Blue, 46',\n",
       "       'Touring-2000 Blue, 50', 'Touring-2000 Blue, 60',\n",
       "       'Classic Vest, L', 'Classic Vest, M', 'Classic Vest, S'],\n",
       "      dtype=object)"
      ]
     },
     "execution_count": 79,
     "metadata": {},
     "output_type": "execute_result"
    }
   ],
   "source": [
    "# return the unique values from the column Product_Category in the DataFrame\n",
    "\n",
    "df['product'].unique()"
   ]
  },
  {
   "cell_type": "code",
   "execution_count": 80,
   "id": "6146f7fc",
   "metadata": {},
   "outputs": [
    {
     "name": "stdout",
     "output_type": "stream",
     "text": [
      "Water Bottle - 30 oz.      10641\n",
      "Patch Kit/8 Patches        10256\n",
      "Mountain Tire Tube          6688\n",
      "AWC Logo Cap                4358\n",
      "Sport-100 Helmet, Red       4218\n",
      "                           ...  \n",
      "Mountain-100 Silver, 48       58\n",
      "Mountain-100 Silver, 42       54\n",
      "Mountain-500 Silver, 48       40\n",
      "Road-650 Red, 52              32\n",
      "Mountain-500 Black, 52        22\n",
      "Name: product, Length: 130, dtype: int64\n"
     ]
    }
   ],
   "source": [
    "#  count the occurrences of each unique value in the Product_catergory column\n",
    "\n",
    "product_counts = df['product'].value_counts()\n",
    "\n",
    "print(product_counts)"
   ]
  },
  {
   "cell_type": "code",
   "execution_count": 81,
   "id": "bba9a7b6",
   "metadata": {},
   "outputs": [
    {
     "data": {
      "text/plain": [
       "Adults (35-64)          55358\n",
       "Young Adults (25-34)    38299\n",
       "Youth (<25)             17660\n",
       "Seniors (64+)             719\n",
       "Name: age_group, dtype: int64"
      ]
     },
     "execution_count": 81,
     "metadata": {},
     "output_type": "execute_result"
    }
   ],
   "source": [
    "# returns the count for the occurrences of each unique value in the age_group\n",
    "\n",
    "df['age_group'].value_counts()"
   ]
  },
  {
   "cell_type": "code",
   "execution_count": null,
   "id": "8c367a55",
   "metadata": {},
   "outputs": [],
   "source": []
  },
  {
   "cell_type": "code",
   "execution_count": null,
   "id": "d17b15c6",
   "metadata": {},
   "outputs": [],
   "source": []
  },
  {
   "cell_type": "code",
   "execution_count": null,
   "id": "22929240",
   "metadata": {},
   "outputs": [],
   "source": []
  },
  {
   "cell_type": "code",
   "execution_count": null,
   "id": "5127b2dd",
   "metadata": {},
   "outputs": [],
   "source": []
  },
  {
   "cell_type": "code",
   "execution_count": null,
   "id": "01249a6a",
   "metadata": {},
   "outputs": [],
   "source": []
  },
  {
   "cell_type": "markdown",
   "id": "9653df21",
   "metadata": {},
   "source": [
    "## Visualizing the Data"
   ]
  },
  {
   "cell_type": "code",
   "execution_count": 101,
   "id": "de44226d",
   "metadata": {},
   "outputs": [
    {
     "data": {
      "image/png": "[encoded data removed]",
      "text/plain": [
       "<Figure size 1080x576 with 1 Axes>"
      ]
     },
     "metadata": {
      "needs_background": "light"
     },
     "output_type": "display_data"
    }
   ],
   "source": [
    "# Plot the bar chart to visualize the count of the different product catergories\n",
    "\n",
    "category_counts.plot(kind='bar', figsize=(15,8), color='skyblue', edgecolor='black')\n",
    "\n",
    "figsize=(10,5)\n",
    "\n",
    "\n",
    "# Add labels and title\n",
    "plt.xlabel('Product Category')\n",
    "plt.ylabel('Count')\n",
    "plt.title('Count of Product Categories')\n",
    "\n",
    "# Display the plot\n",
    "plt.show()"
   ]
  },
  {
   "cell_type": "code",
   "execution_count": 102,
   "id": "a7b832c1",
   "metadata": {},
   "outputs": [
    {
     "name": "stdout",
     "output_type": "stream",
     "text": [
      "year\n",
      "2011    39103704512\n",
      "2012    30580192364\n",
      "2013    20598206136\n",
      "2014    14062848836\n",
      "2015    50348101822\n",
      "2016    35044529594\n",
      "Name: profit, dtype: int64\n"
     ]
    }
   ],
   "source": [
    "# Group by 'year' and sum up the 'profit' for each year\n",
    "\n",
    "yearly_profits = df.groupby('year')['profit'].sum()\n",
    "\n",
    "print(yearly_profits)"
   ]
  },
  {
   "cell_type": "code",
   "execution_count": 63,
   "id": "de2de6d7",
   "metadata": {},
   "outputs": [
    {
     "data": {
      "image/png": "[encoded data removed]",
      "text/plain": [
       "<Figure size 432x288 with 1 Axes>"
      ]
     },
     "metadata": {
      "needs_background": "light"
     },
     "output_type": "display_data"
    }
   ],
   "source": [
    "# Plotting the line chart visualising the yearly profits\n",
    "\n",
    "yearly_profits.plot(kind='line', marker='o', color='b', linestyle='-', title='Yearly Profits')\n",
    "\n",
    "# Adding labels and title\n",
    "plt.xlabel('Year')\n",
    "plt.ylabel('Total Profit')\n",
    "plt.title('Yearly Profits')\n",
    "\n",
    "# Display the chart\n",
    "plt.show()"
   ]
  },
  {
   "cell_type": "code",
   "execution_count": 103,
   "id": "e1bc40f3",
   "metadata": {},
   "outputs": [
    {
     "name": "stdout",
     "output_type": "stream",
     "text": [
      "month\n",
      "April        16381075198\n",
      "August       12470820734\n",
      "December     20341977844\n",
      "February     14404979147\n",
      "January      15867243934\n",
      "July         19197078829\n",
      "June         19024406460\n",
      "March        15560339967\n",
      "May          18851356802\n",
      "November     12919848391\n",
      "October      12196138214\n",
      "September    12522317744\n",
      "Name: profit, dtype: int64\n"
     ]
    }
   ],
   "source": [
    "# calculate the total profit for each month by grouping the data by the month column\n",
    "\n",
    "\n",
    "month_profit = df.groupby('month') ['profit'].sum()\n",
    "print(month_profit)"
   ]
  },
  {
   "cell_type": "code",
   "execution_count": 104,
   "id": "43556c44",
   "metadata": {},
   "outputs": [
    {
     "data": {
      "text/html": [
       "<div>\n",
       "<style scoped>\n",
       "    .dataframe tbody tr th:only-of-type {\n",
       "        vertical-align: middle;\n",
       "    }\n",
       "\n",
       "    .dataframe tbody tr th {\n",
       "        vertical-align: top;\n",
       "    }\n",
       "\n",
       "    .dataframe thead th {\n",
       "        text-align: right;\n",
       "    }\n",
       "</style>\n",
       "<table border=\"1\" class=\"dataframe\">\n",
       "  <thead>\n",
       "    <tr style=\"text-align: right;\">\n",
       "      <th></th>\n",
       "      <th>month</th>\n",
       "      <th>profit</th>\n",
       "    </tr>\n",
       "  </thead>\n",
       "  <tbody>\n",
       "    <tr>\n",
       "      <th>0</th>\n",
       "      <td>April</td>\n",
       "      <td>16381075198</td>\n",
       "    </tr>\n",
       "    <tr>\n",
       "      <th>1</th>\n",
       "      <td>August</td>\n",
       "      <td>12470820734</td>\n",
       "    </tr>\n",
       "    <tr>\n",
       "      <th>2</th>\n",
       "      <td>December</td>\n",
       "      <td>20341977844</td>\n",
       "    </tr>\n",
       "    <tr>\n",
       "      <th>3</th>\n",
       "      <td>February</td>\n",
       "      <td>14404979147</td>\n",
       "    </tr>\n",
       "    <tr>\n",
       "      <th>4</th>\n",
       "      <td>January</td>\n",
       "      <td>15867243934</td>\n",
       "    </tr>\n",
       "    <tr>\n",
       "      <th>5</th>\n",
       "      <td>July</td>\n",
       "      <td>19197078829</td>\n",
       "    </tr>\n",
       "    <tr>\n",
       "      <th>6</th>\n",
       "      <td>June</td>\n",
       "      <td>19024406460</td>\n",
       "    </tr>\n",
       "    <tr>\n",
       "      <th>7</th>\n",
       "      <td>March</td>\n",
       "      <td>15560339967</td>\n",
       "    </tr>\n",
       "    <tr>\n",
       "      <th>8</th>\n",
       "      <td>May</td>\n",
       "      <td>18851356802</td>\n",
       "    </tr>\n",
       "    <tr>\n",
       "      <th>9</th>\n",
       "      <td>November</td>\n",
       "      <td>12919848391</td>\n",
       "    </tr>\n",
       "    <tr>\n",
       "      <th>10</th>\n",
       "      <td>October</td>\n",
       "      <td>12196138214</td>\n",
       "    </tr>\n",
       "    <tr>\n",
       "      <th>11</th>\n",
       "      <td>September</td>\n",
       "      <td>12522317744</td>\n",
       "    </tr>\n",
       "  </tbody>\n",
       "</table>\n",
       "</div>"
      ],
      "text/plain": [
       "        month       profit\n",
       "0       April  16381075198\n",
       "1      August  12470820734\n",
       "2    December  20341977844\n",
       "3    February  14404979147\n",
       "4     January  15867243934\n",
       "5        July  19197078829\n",
       "6        June  19024406460\n",
       "7       March  15560339967\n",
       "8         May  18851356802\n",
       "9    November  12919848391\n",
       "10    October  12196138214\n",
       "11  September  12522317744"
      ]
     },
     "execution_count": 104,
     "metadata": {},
     "output_type": "execute_result"
    }
   ],
   "source": [
    "# creating a new dataframe for month and total profits \n",
    "\n",
    "month_profit= pd.DataFrame (month_profit)\n",
    "\n",
    "\n",
    "month_profit = month_profit.reset_index()\n",
    "month_profit\n"
   ]
  },
  {
   "cell_type": "code",
   "execution_count": 105,
   "id": "b9bda158",
   "metadata": {},
   "outputs": [
    {
     "name": "stdout",
     "output_type": "stream",
     "text": [
      "Empty DataFrame\n",
      "Columns: [month, profit]\n",
      "Index: []\n"
     ]
    }
   ],
   "source": [
    "print(month_profit[month_profit['month'].isna()])"
   ]
  },
  {
   "cell_type": "code",
   "execution_count": 106,
   "id": "23a7b6d8",
   "metadata": {},
   "outputs": [],
   "source": [
    "# Define the correct month order\n",
    "\n",
    "sort_order = ['January', 'February', 'March','April', 'May','June ', 'July', 'August', 'September', 'October', 'November', 'December']\n",
    "\n",
    "\n",
    "# Convert the 'month' column to a Categorical with the desired sort order\n",
    "month_profit['month'] = pd.CategoricalIndex(month_profit['month'], categories=sort_order, ordered=True)\n",
    "\n",
    "month_profit=month_profit.sort_index()\n",
    "\n",
    "# Now sort by the categorical month column\n",
    "month_profit = month_profit.sort_values('month').reset_index(drop=True)"
   ]
  },
  {
   "cell_type": "code",
   "execution_count": 107,
   "id": "685fc5f1",
   "metadata": {},
   "outputs": [
    {
     "data": {
      "text/html": [
       "<div>\n",
       "<style scoped>\n",
       "    .dataframe tbody tr th:only-of-type {\n",
       "        vertical-align: middle;\n",
       "    }\n",
       "\n",
       "    .dataframe tbody tr th {\n",
       "        vertical-align: top;\n",
       "    }\n",
       "\n",
       "    .dataframe thead th {\n",
       "        text-align: right;\n",
       "    }\n",
       "</style>\n",
       "<table border=\"1\" class=\"dataframe\">\n",
       "  <thead>\n",
       "    <tr style=\"text-align: right;\">\n",
       "      <th></th>\n",
       "      <th>month</th>\n",
       "      <th>profit</th>\n",
       "    </tr>\n",
       "  </thead>\n",
       "  <tbody>\n",
       "    <tr>\n",
       "      <th>0</th>\n",
       "      <td>January</td>\n",
       "      <td>15867243934</td>\n",
       "    </tr>\n",
       "    <tr>\n",
       "      <th>1</th>\n",
       "      <td>February</td>\n",
       "      <td>14404979147</td>\n",
       "    </tr>\n",
       "    <tr>\n",
       "      <th>2</th>\n",
       "      <td>March</td>\n",
       "      <td>15560339967</td>\n",
       "    </tr>\n",
       "    <tr>\n",
       "      <th>3</th>\n",
       "      <td>April</td>\n",
       "      <td>16381075198</td>\n",
       "    </tr>\n",
       "    <tr>\n",
       "      <th>4</th>\n",
       "      <td>May</td>\n",
       "      <td>18851356802</td>\n",
       "    </tr>\n",
       "    <tr>\n",
       "      <th>5</th>\n",
       "      <td>July</td>\n",
       "      <td>19197078829</td>\n",
       "    </tr>\n",
       "    <tr>\n",
       "      <th>6</th>\n",
       "      <td>August</td>\n",
       "      <td>12470820734</td>\n",
       "    </tr>\n",
       "    <tr>\n",
       "      <th>7</th>\n",
       "      <td>September</td>\n",
       "      <td>12522317744</td>\n",
       "    </tr>\n",
       "    <tr>\n",
       "      <th>8</th>\n",
       "      <td>October</td>\n",
       "      <td>12196138214</td>\n",
       "    </tr>\n",
       "    <tr>\n",
       "      <th>9</th>\n",
       "      <td>November</td>\n",
       "      <td>12919848391</td>\n",
       "    </tr>\n",
       "    <tr>\n",
       "      <th>10</th>\n",
       "      <td>December</td>\n",
       "      <td>20341977844</td>\n",
       "    </tr>\n",
       "    <tr>\n",
       "      <th>11</th>\n",
       "      <td>NaN</td>\n",
       "      <td>19024406460</td>\n",
       "    </tr>\n",
       "  </tbody>\n",
       "</table>\n",
       "</div>"
      ],
      "text/plain": [
       "        month       profit\n",
       "0     January  15867243934\n",
       "1    February  14404979147\n",
       "2       March  15560339967\n",
       "3       April  16381075198\n",
       "4         May  18851356802\n",
       "5        July  19197078829\n",
       "6      August  12470820734\n",
       "7   September  12522317744\n",
       "8     October  12196138214\n",
       "9    November  12919848391\n",
       "10   December  20341977844\n",
       "11        NaN  19024406460"
      ]
     },
     "execution_count": 107,
     "metadata": {},
     "output_type": "execute_result"
    }
   ],
   "source": [
    "month_profit"
   ]
  },
  {
   "cell_type": "code",
   "execution_count": 108,
   "id": "35509fe1",
   "metadata": {},
   "outputs": [
    {
     "data": {
      "image/png": "[encoded data removed]",
      "text/plain": [
       "<Figure size 2160x576 with 1 Axes>"
      ]
     },
     "metadata": {
      "needs_background": "light"
     },
     "output_type": "display_data"
    }
   ],
   "source": [
    "# Convert 'month' to string type for plotting\n",
    "\n",
    "plt.figure(figsize=(30, 8))\n",
    "plt.bar(month_profit['month'].astype(str), month_profit['profit'], color='Yellow')\n",
    "\n",
    "# Adding labels and title\n",
    "plt.xlabel('month')\n",
    "plt.ylabel('Profit')\n",
    "plt.title('Monthly Profit')\n",
    "\n",
    "# Rotate month names for better readability if needed\n",
    "plt.xticks(rotation=45)  \n",
    "\n",
    "# Show the plot\n",
    "plt.show()"
   ]
  },
  {
   "cell_type": "code",
   "execution_count": 109,
   "id": "fa1f3997",
   "metadata": {},
   "outputs": [],
   "source": [
    "# calculate the average order quantity for each month\n",
    "\n",
    "average_order = df.groupby('month')['order_quantity'].mean().round(3).sort_values(ascending=False)\n"
   ]
  },
  {
   "cell_type": "code",
   "execution_count": 111,
   "id": "55bee655",
   "metadata": {},
   "outputs": [
    {
     "data": {
      "text/plain": [
       "year\n",
       "2011    10051324\n",
       "2012    10243236\n",
       "2014    15583042\n",
       "2013    16892817\n",
       "2016    19599815\n",
       "2015    22318354\n",
       "Name: revenue, dtype: int64"
      ]
     },
     "execution_count": 111,
     "metadata": {},
     "output_type": "execute_result"
    }
   ],
   "source": [
    "# Calculates the total revenue for each year by grouping the data by year\n",
    "\n",
    "year_revenue=df.groupby('year')['revenue'].sum().sort_values()\n",
    "year_revenue"
   ]
  },
  {
   "cell_type": "code",
   "execution_count": 112,
   "id": "5d6bab21",
   "metadata": {},
   "outputs": [
    {
     "data": {
      "text/plain": [
       "Text(0.5, 1.0, 'Revenue by Year')"
      ]
     },
     "execution_count": 112,
     "metadata": {},
     "output_type": "execute_result"
    },
    {
     "data": {
      "image/png": "[encoded data removed]",
      "text/plain": [
       "<Figure size 720x360 with 1 Axes>"
      ]
     },
     "metadata": {
      "needs_background": "light"
     },
     "output_type": "display_data"
    }
   ],
   "source": [
    "# Creates a horizontal bar chart to visualize revenue by year\n",
    "    \n",
    "year_revenue.plot(kind = 'barh', figsize=(10,5), color='skyblue' )\n",
    "\n",
    "# Adding labels and title\n",
    "plt.xlabel('year')\n",
    "plt.ylabel('revenue')\n",
    "plt.title('Revenue by Year')\n"
   ]
  },
  {
   "cell_type": "code",
   "execution_count": 113,
   "id": "24a769e9",
   "metadata": {},
   "outputs": [
    {
     "data": {
      "text/plain": [
       "year\n",
       "2011    3763.131\n",
       "2012    3845.059\n",
       "2013     697.359\n",
       "2014     535.095\n",
       "2015     921.218\n",
       "2016     672.886\n",
       "Name: revenue, dtype: float64"
      ]
     },
     "execution_count": 113,
     "metadata": {},
     "output_type": "execute_result"
    }
   ],
   "source": [
    "# calculate the average revenue for each year\n",
    "\n",
    "average_year = df.groupby('year')['revenue'].mean().round(3)\n",
    "average_year"
   ]
  },
  {
   "cell_type": "code",
   "execution_count": 114,
   "id": "6c9d9827",
   "metadata": {},
   "outputs": [
    {
     "data": {
      "image/png": "[encoded data removed]",
      "text/plain": [
       "<Figure size 720x360 with 1 Axes>"
      ]
     },
     "metadata": {
      "needs_background": "light"
     },
     "output_type": "display_data"
    }
   ],
   "source": [
    "# generate a vertical bar chart that visualizes the average Revenue for each year\n",
    "\n",
    "average_year.plot(kind='bar', figsize=(10, 5), color='red')\n",
    "\n",
    "# Adding labels and title\n",
    "plt.title('Average Revenue by Year',fontsize=18)\n",
    "plt.xlabel('Year')\n",
    "plt.ylabel('Average Revenue')\n",
    "plt.show()"
   ]
  },
  {
   "cell_type": "code",
   "execution_count": 115,
   "id": "666fc0a5",
   "metadata": {},
   "outputs": [
    {
     "data": {
      "text/plain": [
       "customer_gender\n",
       "Female    639958\n",
       "Male      693747\n",
       "Name: order_quantity, dtype: int64"
      ]
     },
     "execution_count": 115,
     "metadata": {},
     "output_type": "execute_result"
    }
   ],
   "source": [
    "# Calculate the Total Orders by Gender\n",
    "\n",
    "gender_order = df.groupby('customer_gender')['order_quantity'].sum()\n",
    "gender_order"
   ]
  },
  {
   "cell_type": "code",
   "execution_count": 141,
   "id": "b490b64a",
   "metadata": {},
   "outputs": [
    {
     "data": {
      "image/png": "[encoded data removed]",
      "text/plain": [
       "<Figure size 432x288 with 1 Axes>"
      ]
     },
     "metadata": {},
     "output_type": "display_data"
    }
   ],
   "source": [
    "# Generate a pie chart that visualizes the order qauntity \n",
    "# based on the customers gender in percentage \n",
    "\n",
    "\n",
    "genders=list(gender_order.index)\n",
    "value=list(gender_order.values)\n",
    "\n",
    "# Creating a pie chart with specified colors\n",
    "plt.pie(value,labels=genders,autopct='%.0f%%')\n",
    "\n",
    "# Adding a title\n",
    "plt.title('Percentage Distribution of Orders by Gender')\n",
    "\n",
    "\n",
    "# Display the plot\n",
    "plt.show()\n",
    "\n"
   ]
  },
  {
   "cell_type": "code",
   "execution_count": 121,
   "id": "2850f64f",
   "metadata": {},
   "outputs": [
    {
     "data": {
      "text/plain": [
       "country\n",
       "Australia         25303706\n",
       "Canada             7984694\n",
       "France             9825708\n",
       "Germany            9958420\n",
       "United Kingdom    11016494\n",
       "United States     30599566\n",
       "Name: revenue, dtype: int64"
      ]
     },
     "execution_count": 121,
     "metadata": {},
     "output_type": "execute_result"
    }
   ],
   "source": [
    "Country_Revenue = df.groupby('country')['revenue'].sum()\n",
    "Country_Revenue"
   ]
  },
  {
   "cell_type": "code",
   "execution_count": 124,
   "id": "728d3c6d",
   "metadata": {},
   "outputs": [
    {
     "data": {
      "text/plain": [
       "country\n",
       "Australia         25303706\n",
       "Canada             7984694\n",
       "France             9825708\n",
       "Germany            9958420\n",
       "United Kingdom    11016494\n",
       "United States     30599566\n",
       "Name: revenue, dtype: int64"
      ]
     },
     "execution_count": 124,
     "metadata": {},
     "output_type": "execute_result"
    }
   ],
   "source": [
    "# Calculate the Revenue by each Country\n",
    "\n",
    "country_revenue=df.groupby('country')['revenue'].sum()\n",
    "country_revenue"
   ]
  },
  {
   "cell_type": "code",
   "execution_count": 125,
   "id": "29f00f1f",
   "metadata": {},
   "outputs": [
    {
     "data": {
      "image/png": "[encoded data removed]",
      "text/plain": [
       "<Figure size 1440x360 with 1 Axes>"
      ]
     },
     "metadata": {
      "needs_background": "light"
     },
     "output_type": "display_data"
    }
   ],
   "source": [
    "# generate bar chart that visualizes the revenue generated by each country\n",
    "\n",
    "country_revenue.plot(kind='bar', figsize=(20,5), color='brown')\n",
    "\n",
    "\n",
    "# Adding labels and title\n",
    "plt.title('Revenue by Country ',fontsize=18)\n",
    "plt.xlabel('Country')\n",
    "plt.ylabel('Revenue')\n",
    "plt.show()\n"
   ]
  },
  {
   "cell_type": "code",
   "execution_count": 126,
   "id": "ac8756de",
   "metadata": {},
   "outputs": [
    {
     "data": {
      "text/plain": [
       "country\n",
       "Canada            12944092397\n",
       "Germany           18645270582\n",
       "United Kingdom    19077177836\n",
       "France            19687394484\n",
       "United States     59010496593\n",
       "Australia         60373151372\n",
       "Name: profit, dtype: int64"
      ]
     },
     "execution_count": 126,
     "metadata": {},
     "output_type": "execute_result"
    }
   ],
   "source": [
    "# profits by\n",
    "\n",
    "profit=df.groupby('country')['profit'].sum().sort_values()\n",
    "profit\n"
   ]
  },
  {
   "cell_type": "code",
   "execution_count": 127,
   "id": "7681b514",
   "metadata": {},
   "outputs": [
    {
     "data": {
      "image/png": "[encoded data removed]",
      "text/plain": [
       "<Figure size 1440x360 with 1 Axes>"
      ]
     },
     "metadata": {
      "needs_background": "light"
     },
     "output_type": "display_data"
    }
   ],
   "source": [
    "# Generate bar chart that visualizes the profits generated by each country\n",
    "\n",
    "profit.plot(kind='bar', figsize=(20, 5), color='green')\n",
    "\n",
    "# Adding labels and title\n",
    "plt.title('Total Profit by Country', fontsize=18)\n",
    "plt.xlabel('Country')\n",
    "plt.ylabel('Total Profit')\n",
    "plt.show()"
   ]
  },
  {
   "cell_type": "code",
   "execution_count": 129,
   "id": "68e2b7e9",
   "metadata": {},
   "outputs": [
    {
     "data": {
      "text/plain": [
       "country\n",
       "Germany           124755\n",
       "France            127872\n",
       "United Kingdom    155769\n",
       "Canada            190202\n",
       "Australia         261227\n",
       "United States     473880\n",
       "Name: order_quantity, dtype: int64"
      ]
     },
     "execution_count": 129,
     "metadata": {},
     "output_type": "execute_result"
    }
   ],
   "source": [
    "# Total Orders by Country\n",
    "\n",
    "country_orders =df.groupby('country')['order_quantity'].sum().sort_values()\n",
    "country_orders\n"
   ]
  },
  {
   "cell_type": "code",
   "execution_count": 179,
   "id": "f8149ad8",
   "metadata": {},
   "outputs": [
    {
     "data": {
      "image/png": "[encoded data removed]",
      "text/plain": [
       "<Figure size 1440x360 with 1 Axes>"
      ]
     },
     "metadata": {
      "needs_background": "light"
     },
     "output_type": "display_data"
    }
   ],
   "source": [
    "# Generate bar chart that visualizes the total orders by country\n",
    "\n",
    "\n",
    "# Example list of colors\n",
    "colors = ['red', 'blue', 'green', 'purple', 'orange', 'brown']\n",
    "\n",
    "# Plot the bar chart with individual colors\n",
    "country_orders.plot(kind='bar', figsize=(20, 5), color=colors)\n",
    "\n",
    "# Adding labels and title\n",
    "plt.title('Total Orders by Country', fontsize=18)\n",
    "plt.xlabel('Total Order Quantity')\n",
    "plt.ylabel('Country')\n",
    "plt.show()"
   ]
  },
  {
   "cell_type": "code",
   "execution_count": 130,
   "id": "d42ecb5a",
   "metadata": {},
   "outputs": [
    {
     "data": {
      "text/plain": [
       "state\n",
       "California          17887092\n",
       "England             11016494\n",
       "New South Wales     10489298\n",
       "Washington           8590886\n",
       "British Columbia     7926676\n",
       "Victoria             6377026\n",
       "Queensland           6018596\n",
       "Oregon               3994213\n",
       "Saarland             2471294\n",
       "Hessen               2223581\n",
       "Name: revenue, dtype: int64"
      ]
     },
     "execution_count": 130,
     "metadata": {},
     "output_type": "execute_result"
    }
   ],
   "source": [
    " # Return the top 10 states with the highest total revenue\n",
    "\n",
    "top_ten_revenue = df.groupby('state')['revenue'].sum().sort_values().nlargest(10)\n",
    "top_ten_revenue\n",
    "\n"
   ]
  },
  {
   "cell_type": "code",
   "execution_count": 131,
   "id": "811eab75",
   "metadata": {},
   "outputs": [
    {
     "data": {
      "image/png": "[encoded data removed]",
      "text/plain": [
       "<Figure size 1440x360 with 1 Axes>"
      ]
     },
     "metadata": {
      "needs_background": "light"
     },
     "output_type": "display_data"
    }
   ],
   "source": [
    "# Generate bar chart that visualizes the orders by country\n",
    "\n",
    "# Example list of colors\n",
    "colors = ['red', 'blue', 'green', 'purple', 'orange', 'brown']\n",
    "\n",
    "top_ten_revenue.plot (kind = 'bar', figsize =(20, 5), color = colors )\n",
    "\n",
    "# Adding labels and title\n",
    "plt.title('Top Ten State by Revenue', fontsize=18)\n",
    "plt.xlabel('State')\n",
    "plt.ylabel('Revenue')\n",
    "plt.show()\n",
    "\n"
   ]
  },
  {
   "cell_type": "code",
   "execution_count": 134,
   "id": "6e0e2397",
   "metadata": {},
   "outputs": [
    {
     "data": {
      "text/plain": [
       "state\n",
       "California          34026815825\n",
       "New South Wales     22903840700\n",
       "Queensland          19147207031\n",
       "England             19077177836\n",
       "Washington          17118322644\n",
       "Victoria            13570373629\n",
       "British Columbia    12749593544\n",
       "Oregon               7582281752\n",
       "Saarland             4600818515\n",
       "Hessen               4426651364\n",
       "Name: profit, dtype: int64"
      ]
     },
     "execution_count": 134,
     "metadata": {},
     "output_type": "execute_result"
    }
   ],
   "source": [
    " # Return the top 10 states with the highest total revenue\n",
    "\n",
    "top_ten_profit = df.groupby('state')['profit'].sum().sort_values().nlargest(10)\n",
    "top_ten_profit"
   ]
  },
  {
   "cell_type": "code",
   "execution_count": 135,
   "id": "5aa88dc7",
   "metadata": {},
   "outputs": [
    {
     "data": {
      "image/png": "[encoded data removed]",
      "text/plain": [
       "<Figure size 1440x360 with 1 Axes>"
      ]
     },
     "metadata": {
      "needs_background": "light"
     },
     "output_type": "display_data"
    }
   ],
   "source": [
    "# Generate bar chart that visualizes the top ten states by profits \n",
    "\n",
    "# Example list of colors\n",
    "colors = ['red', 'blue', 'green', 'purple', 'orange', 'brown']\n",
    "\n",
    "top_ten_profit.plot (kind = 'bar', figsize =(20, 5), color = colors )\n",
    "\n",
    "# Adding labels and title\n",
    "plt.title('Top Ten State by Profit', fontsize=18)\n",
    "plt.xlabel('State')\n",
    "plt.ylabel('Profit')\n",
    "plt.show()"
   ]
  },
  {
   "cell_type": "code",
   "execution_count": 139,
   "id": "221d30bb",
   "metadata": {},
   "outputs": [
    {
     "data": {
      "text/plain": [
       "sub_category\n",
       "Road Bikes         108945800545\n",
       "Mountain Bikes      50234469780\n",
       "Touring Bikes       15916070701\n",
       "Vests                5990873664\n",
       "Jerseys              3602827556\n",
       "Helmets              1645615790\n",
       "Shorts               1001163800\n",
       "Tires and Tubes       859018675\n",
       "Hydration Packs       450966460\n",
       "Bike Racks            345346200\n",
       "Name: profit, dtype: int64"
      ]
     },
     "execution_count": 139,
     "metadata": {},
     "output_type": "execute_result"
    }
   ],
   "source": [
    " # Return the top 10 sub_category with the highest profit\n",
    "\n",
    "subcategory_profit = df.groupby('sub_category')['profit'].sum().sort_values().nlargest(10)\n",
    "subcategory_profit"
   ]
  },
  {
   "cell_type": "code",
   "execution_count": 141,
   "id": "fd1468e0",
   "metadata": {},
   "outputs": [
    {
     "data": {
      "image/png": "[encoded data removed]",
      "text/plain": [
       "<Figure size 1440x360 with 1 Axes>"
      ]
     },
     "metadata": {
      "needs_background": "light"
     },
     "output_type": "display_data"
    }
   ],
   "source": [
    "# Generate bar chart that visualizes the total profits by sub-category\n",
    "\n",
    "\n",
    "# Example list of colors\n",
    "colors = ['red', 'blue', 'green', 'purple', 'orange', 'brown']\n",
    "\n",
    "subcategory_profit.plot (kind = 'bar', figsize =(20, 5), color = colors )\n",
    "\n",
    "# Adding labels and title\n",
    "plt.title('Profit by Sub Category', fontsize=18)\n",
    "plt.xlabel('sub_category')\n",
    "plt.ylabel('Profit')\n",
    "plt.show()\n",
    "\n"
   ]
  },
  {
   "cell_type": "code",
   "execution_count": 142,
   "id": "9dd310c4",
   "metadata": {},
   "outputs": [
    {
     "data": {
      "text/plain": [
       "product_category\n",
       "Bikes          175096341026\n",
       "Clothing        10863914814\n",
       "Accessories      3777327424\n",
       "Name: profit, dtype: int64"
      ]
     },
     "execution_count": 142,
     "metadata": {},
     "output_type": "execute_result"
    }
   ],
   "source": [
    "# Profit by Product Category\n",
    "\n",
    " # Return the product_category with the highest profit\n",
    "\n",
    "productcategory_profit = df.groupby('product_category')['profit'].sum().sort_values().nlargest(10)\n",
    "productcategory_profit\n"
   ]
  },
  {
   "cell_type": "code",
   "execution_count": 145,
   "id": "5aa488d5",
   "metadata": {},
   "outputs": [
    {
     "data": {
      "image/png": "[encoded data removed]",
      "text/plain": [
       "<Figure size 720x360 with 1 Axes>"
      ]
     },
     "metadata": {
      "needs_background": "light"
     },
     "output_type": "display_data"
    }
   ],
   "source": [
    "# Generate bar chart that visualizes the total profits by sub-producy category\n",
    "\n",
    "\n",
    "# Example list of colors\n",
    "colors = ['red', 'blue', 'green', 'purple', 'orange', 'brown']\n",
    "\n",
    "productcategory_profit.plot (kind = 'bar', figsize =(10, 5), color = colors )\n",
    "\n",
    "# Adding labels and title\n",
    "plt.title('Profit by Product catergory', fontsize=18)\n",
    "plt.xlabel('product')\n",
    "plt.ylabel('Profit')\n",
    "plt.show()"
   ]
  },
  {
   "cell_type": "code",
   "execution_count": 149,
   "id": "e7c689ec",
   "metadata": {},
   "outputs": [
    {
     "data": {
      "text/plain": [
       "age_group\n",
       "Adults (35-64)          47086840\n",
       "Seniors (64+)             338656\n",
       "Young Adults (25-34)    34104452\n",
       "Youth (<25)             13158640\n",
       "Name: revenue, dtype: int64"
      ]
     },
     "execution_count": 149,
     "metadata": {},
     "output_type": "execute_result"
    }
   ],
   "source": [
    "# returns the revenvue generated by each age group\n",
    "\n",
    "Age_revenue=df.groupby('age_group')['revenue'].sum()\n",
    "Age_revenue"
   ]
  },
  {
   "cell_type": "code",
   "execution_count": 152,
   "id": "bbfdd1d6",
   "metadata": {},
   "outputs": [
    {
     "data": {
      "image/png": "[encoded data removed]",
      "text/plain": [
       "<Figure size 1440x360 with 1 Axes>"
      ]
     },
     "metadata": {
      "needs_background": "light"
     },
     "output_type": "display_data"
    }
   ],
   "source": [
    "# Generate bar chart that visualizes the revenue generated by age_groups\n",
    "\n",
    "\n",
    "# Example list of colors\n",
    "colors = ['red', 'blue', 'green', 'purple', 'orange', 'brown']\n",
    "\n",
    "Age_revenue.plot (kind = 'bar', figsize =(20, 5), color = colors )\n",
    "\n",
    "# Adding labels and title\n",
    "plt.title('Revenue Generated by each age group', fontsize=18)\n",
    "plt.xlabel(' Age Group')\n",
    "plt.ylabel(' Revenue')\n",
    "plt.show()"
   ]
  },
  {
   "cell_type": "code",
   "execution_count": null,
   "id": "660f50a8",
   "metadata": {},
   "outputs": [],
   "source": []
  }
 ],
 "metadata": {
  "kernelspec": {
   "display_name": "Python 3 (ipykernel)",
   "language": "python",
   "name": "python3"
  },
  "language_info": {
   "codemirror_mode": {
    "name": "ipython",
    "version": 3
   },
   "file_extension": ".py",
   "mimetype": "text/x-python",
   "name": "python",
   "nbconvert_exporter": "python",
   "pygments_lexer": "ipython3",
   "version": "3.9.12"
  }
 },
 "nbformat": 4,
 "nbformat_minor": 5
}
